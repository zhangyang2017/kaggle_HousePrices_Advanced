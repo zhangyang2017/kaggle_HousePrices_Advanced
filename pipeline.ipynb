{
 "cells": [
  {
   "cell_type": "code",
   "execution_count": 1,
   "metadata": {},
   "outputs": [],
   "source": [
    "import os\n",
    "import pandas as pd\n",
    "#import matplotlib.pyplot as plt\n",
    "#%matplotlib inline\n",
    "#import seaborn as sns\n",
    "import numpy as np\n",
    "from sklearn.model_selection import train_test_split"
   ]
  },
  {
   "cell_type": "code",
   "execution_count": 2,
   "metadata": {},
   "outputs": [],
   "source": [
    "DATA_PATH = os.path.join('data')"
   ]
  },
  {
   "cell_type": "code",
   "execution_count": 95,
   "metadata": {},
   "outputs": [],
   "source": [
    "def load_training_data(training_path=DATA_PATH):\n",
    "    cvs_path = os.path.join(training_path, 'train.csv')\n",
    "    return pd.read_csv(cvs_path)"
   ]
  },
  {
   "cell_type": "code",
   "execution_count": 96,
   "metadata": {},
   "outputs": [],
   "source": [
    "def load_predicting_data(predicting_path=DATA_PATH):\n",
    "    cvs_path = os.path.join(predicting_path, 'test.csv')\n",
    "    return pd.read_csv(cvs_path)"
   ]
  },
  {
   "cell_type": "code",
   "execution_count": 132,
   "metadata": {},
   "outputs": [],
   "source": [
    "training = load_training_data()"
   ]
  },
  {
   "cell_type": "code",
   "execution_count": 6,
   "metadata": {},
   "outputs": [],
   "source": [
    "#pred = load_predicting_data()"
   ]
  },
  {
   "cell_type": "code",
   "execution_count": 6,
   "metadata": {},
   "outputs": [
    {
     "data": {
      "text/plain": [
       "Index(['Id', 'MSSubClass', 'MSZoning', 'LotFrontage', 'LotArea', 'Street',\n",
       "       'Alley', 'LotShape', 'LandContour', 'Utilities', 'LotConfig',\n",
       "       'LandSlope', 'Neighborhood', 'Condition1', 'Condition2', 'BldgType',\n",
       "       'HouseStyle', 'OverallQual', 'OverallCond', 'YearBuilt', 'YearRemodAdd',\n",
       "       'RoofStyle', 'RoofMatl', 'Exterior1st', 'Exterior2nd', 'MasVnrType',\n",
       "       'MasVnrArea', 'ExterQual', 'ExterCond', 'Foundation', 'BsmtQual',\n",
       "       'BsmtCond', 'BsmtExposure', 'BsmtFinType1', 'BsmtFinSF1',\n",
       "       'BsmtFinType2', 'BsmtFinSF2', 'BsmtUnfSF', 'TotalBsmtSF', 'Heating',\n",
       "       'HeatingQC', 'CentralAir', 'Electrical', '1stFlrSF', '2ndFlrSF',\n",
       "       'LowQualFinSF', 'GrLivArea', 'BsmtFullBath', 'BsmtHalfBath', 'FullBath',\n",
       "       'HalfBath', 'BedroomAbvGr', 'KitchenAbvGr', 'KitchenQual',\n",
       "       'TotRmsAbvGrd', 'Functional', 'Fireplaces', 'FireplaceQu', 'GarageType',\n",
       "       'GarageYrBlt', 'GarageFinish', 'GarageCars', 'GarageArea', 'GarageQual',\n",
       "       'GarageCond', 'PavedDrive', 'WoodDeckSF', 'OpenPorchSF',\n",
       "       'EnclosedPorch', '3SsnPorch', 'ScreenPorch', 'PoolArea', 'PoolQC',\n",
       "       'Fence', 'MiscFeature', 'MiscVal', 'MoSold', 'YrSold', 'SaleType',\n",
       "       'SaleCondition', 'SalePrice'],\n",
       "      dtype='object')"
      ]
     },
     "execution_count": 6,
     "metadata": {},
     "output_type": "execute_result"
    }
   ],
   "source": [
    "training.columns"
   ]
  },
  {
   "cell_type": "code",
   "execution_count": 133,
   "metadata": {},
   "outputs": [],
   "source": [
    "train_set, val_set = train_test_split(training, test_size=0.3, random_state=42)"
   ]
  },
  {
   "cell_type": "markdown",
   "metadata": {},
   "source": [
    "### Baseline model with few features"
   ]
  },
  {
   "cell_type": "code",
   "execution_count": 8,
   "metadata": {},
   "outputs": [],
   "source": [
    "train_base = train_set.loc[:, ['LotFrontage', 'LotArea', 'GrLivArea', 'OverallQual', 'OverallCond']]\n",
    "val_base = val_set.loc[:, ['LotFrontage', 'LotArea', 'GrLivArea', 'OverallQual', 'OverallCond']]"
   ]
  },
  {
   "cell_type": "code",
   "execution_count": 9,
   "metadata": {},
   "outputs": [],
   "source": [
    "y_base = train_set.SalePrice\n",
    "y_val = val_set.SalePrice"
   ]
  },
  {
   "cell_type": "code",
   "execution_count": 10,
   "metadata": {},
   "outputs": [
    {
     "data": {
      "text/html": [
       "<div>\n",
       "<style scoped>\n",
       "    .dataframe tbody tr th:only-of-type {\n",
       "        vertical-align: middle;\n",
       "    }\n",
       "\n",
       "    .dataframe tbody tr th {\n",
       "        vertical-align: top;\n",
       "    }\n",
       "\n",
       "    .dataframe thead th {\n",
       "        text-align: right;\n",
       "    }\n",
       "</style>\n",
       "<table border=\"1\" class=\"dataframe\">\n",
       "  <thead>\n",
       "    <tr style=\"text-align: right;\">\n",
       "      <th></th>\n",
       "      <th>LotFrontage</th>\n",
       "      <th>LotArea</th>\n",
       "      <th>GrLivArea</th>\n",
       "      <th>OverallQual</th>\n",
       "      <th>OverallCond</th>\n",
       "    </tr>\n",
       "  </thead>\n",
       "  <tbody>\n",
       "    <tr>\n",
       "      <th>135</th>\n",
       "      <td>80.0</td>\n",
       "      <td>10400</td>\n",
       "      <td>1682</td>\n",
       "      <td>7</td>\n",
       "      <td>6</td>\n",
       "    </tr>\n",
       "    <tr>\n",
       "      <th>1452</th>\n",
       "      <td>35.0</td>\n",
       "      <td>3675</td>\n",
       "      <td>1072</td>\n",
       "      <td>5</td>\n",
       "      <td>5</td>\n",
       "    </tr>\n",
       "    <tr>\n",
       "      <th>762</th>\n",
       "      <td>72.0</td>\n",
       "      <td>8640</td>\n",
       "      <td>1547</td>\n",
       "      <td>7</td>\n",
       "      <td>5</td>\n",
       "    </tr>\n",
       "    <tr>\n",
       "      <th>932</th>\n",
       "      <td>84.0</td>\n",
       "      <td>11670</td>\n",
       "      <td>1905</td>\n",
       "      <td>9</td>\n",
       "      <td>5</td>\n",
       "    </tr>\n",
       "    <tr>\n",
       "      <th>435</th>\n",
       "      <td>43.0</td>\n",
       "      <td>10667</td>\n",
       "      <td>1661</td>\n",
       "      <td>7</td>\n",
       "      <td>6</td>\n",
       "    </tr>\n",
       "  </tbody>\n",
       "</table>\n",
       "</div>"
      ],
      "text/plain": [
       "      LotFrontage  LotArea  GrLivArea  OverallQual  OverallCond\n",
       "135          80.0    10400       1682            7            6\n",
       "1452         35.0     3675       1072            5            5\n",
       "762          72.0     8640       1547            7            5\n",
       "932          84.0    11670       1905            9            5\n",
       "435          43.0    10667       1661            7            6"
      ]
     },
     "execution_count": 10,
     "metadata": {},
     "output_type": "execute_result"
    }
   ],
   "source": [
    "train_base.head()"
   ]
  },
  {
   "cell_type": "code",
   "execution_count": 22,
   "metadata": {},
   "outputs": [
    {
     "data": {
      "text/plain": [
       "(1022,)"
      ]
     },
     "execution_count": 22,
     "metadata": {},
     "output_type": "execute_result"
    }
   ],
   "source": [
    "y_base.shape"
   ]
  },
  {
   "cell_type": "markdown",
   "metadata": {},
   "source": [
    "### Build a pipeline"
   ]
  },
  {
   "cell_type": "code",
   "execution_count": 12,
   "metadata": {},
   "outputs": [],
   "source": [
    "from sklearn.preprocessing import StandardScaler, OneHotEncoder\n",
    "from sklearn.pipeline import make_pipeline\n",
    "from sklearn.impute import SimpleImputer\n",
    "from sklearn.compose import make_column_transformer\n",
    "#from sklearn.compose import ColumnTransformer"
   ]
  },
  {
   "cell_type": "markdown",
   "metadata": {},
   "source": [
    "#### numerical attributes preprocessor"
   ]
  },
  {
   "cell_type": "code",
   "execution_count": 13,
   "metadata": {},
   "outputs": [],
   "source": [
    "num_transformer = make_pipeline(\n",
    "                    SimpleImputer(strategy='constant', fill_value=None),\n",
    "                    StandardScaler()\n",
    ")"
   ]
  },
  {
   "cell_type": "code",
   "execution_count": 14,
   "metadata": {},
   "outputs": [],
   "source": [
    "from sklearn.linear_model import LinearRegression\n",
    "from sklearn.metrics import mean_squared_error\n",
    "lin = LinearRegression()"
   ]
  },
  {
   "cell_type": "code",
   "execution_count": 15,
   "metadata": {},
   "outputs": [],
   "source": [
    "pipe_lin = make_pipeline(num_transformer, lin)"
   ]
  },
  {
   "cell_type": "code",
   "execution_count": 16,
   "metadata": {},
   "outputs": [],
   "source": [
    "pipe_lin.fit(train_base, y_base);"
   ]
  },
  {
   "cell_type": "code",
   "execution_count": 17,
   "metadata": {},
   "outputs": [
    {
     "data": {
      "text/plain": [
       "41446.14026812556"
      ]
     },
     "execution_count": 17,
     "metadata": {},
     "output_type": "execute_result"
    }
   ],
   "source": [
    "predictions = pipe_lin.predict(val_base)\n",
    "lin_mse = mean_squared_error(y_val, predictions)\n",
    "lin_rmse = np.sqrt(lin_mse)\n",
    "lin_rmse"
   ]
  },
  {
   "cell_type": "markdown",
   "metadata": {},
   "source": [
    "### Add a few more features"
   ]
  },
  {
   "cell_type": "code",
   "execution_count": 134,
   "metadata": {},
   "outputs": [
    {
     "name": "stderr",
     "output_type": "stream",
     "text": [
      "/Users/yangzhang/opt/anaconda3/lib/python3.8/site-packages/pandas/core/indexing.py:1596: SettingWithCopyWarning: \n",
      "A value is trying to be set on a copy of a slice from a DataFrame.\n",
      "Try using .loc[row_indexer,col_indexer] = value instead\n",
      "\n",
      "See the caveats in the documentation: https://pandas.pydata.org/pandas-docs/stable/user_guide/indexing.html#returning-a-view-versus-a-copy\n",
      "  self.obj[key] = _infer_fill_value(value)\n",
      "/Users/yangzhang/opt/anaconda3/lib/python3.8/site-packages/pandas/core/indexing.py:1745: SettingWithCopyWarning: \n",
      "A value is trying to be set on a copy of a slice from a DataFrame.\n",
      "Try using .loc[row_indexer,col_indexer] = value instead\n",
      "\n",
      "See the caveats in the documentation: https://pandas.pydata.org/pandas-docs/stable/user_guide/indexing.html#returning-a-view-versus-a-copy\n",
      "  isetter(ilocs[0], value)\n"
     ]
    }
   ],
   "source": [
    "train_set.loc[:,'HouseAge'] = train_set.YrSold - train_set.YearBuilt\n",
    "val_set.loc[:,'HouseAge'] = val_set.YrSold - val_set.YearBuilt\n",
    "\n",
    "train_set.loc[:,'TotalPorchSF'] = train_set.OpenPorchSF + train_set.EnclosedPorch + train_set.ScreenPorch + train_set['3SsnPorch']\n",
    "val_set.loc[:,'TotalPorchSF'] = val_set.OpenPorchSF + val_set.EnclosedPorch + val_set.ScreenPorch + val_set['3SsnPorch']"
   ]
  },
  {
   "cell_type": "code",
   "execution_count": 112,
   "metadata": {},
   "outputs": [],
   "source": []
  },
  {
   "cell_type": "code",
   "execution_count": 135,
   "metadata": {},
   "outputs": [],
   "source": [
    "train_base = train_set.loc[:, ['LotFrontage', 'LotArea', 'GrLivArea', 'OverallQual', 'OverallCond', \n",
    "                               'Neighborhood', 'BldgType', 'HouseAge', 'TotalPorchSF', 'BsmtExposure']]\n",
    "val_base = val_set.loc[:, ['LotFrontage', 'LotArea', 'GrLivArea', 'OverallQual', 'OverallCond', \n",
    "                           'Neighborhood', 'BldgType', 'HouseAge', 'TotalPorchSF', 'BsmtExposure']]"
   ]
  },
  {
   "cell_type": "code",
   "execution_count": 136,
   "metadata": {},
   "outputs": [],
   "source": [
    "y_base = train_set.SalePrice\n",
    "y_val = val_set.SalePrice"
   ]
  },
  {
   "cell_type": "code",
   "execution_count": 137,
   "metadata": {},
   "outputs": [
    {
     "data": {
      "text/html": [
       "<div>\n",
       "<style scoped>\n",
       "    .dataframe tbody tr th:only-of-type {\n",
       "        vertical-align: middle;\n",
       "    }\n",
       "\n",
       "    .dataframe tbody tr th {\n",
       "        vertical-align: top;\n",
       "    }\n",
       "\n",
       "    .dataframe thead th {\n",
       "        text-align: right;\n",
       "    }\n",
       "</style>\n",
       "<table border=\"1\" class=\"dataframe\">\n",
       "  <thead>\n",
       "    <tr style=\"text-align: right;\">\n",
       "      <th></th>\n",
       "      <th>LotFrontage</th>\n",
       "      <th>LotArea</th>\n",
       "      <th>GrLivArea</th>\n",
       "      <th>OverallQual</th>\n",
       "      <th>OverallCond</th>\n",
       "      <th>Neighborhood</th>\n",
       "      <th>BldgType</th>\n",
       "      <th>HouseAge</th>\n",
       "      <th>TotalPorchSF</th>\n",
       "      <th>BsmtExposure</th>\n",
       "    </tr>\n",
       "  </thead>\n",
       "  <tbody>\n",
       "    <tr>\n",
       "      <th>135</th>\n",
       "      <td>80.0</td>\n",
       "      <td>10400</td>\n",
       "      <td>1682</td>\n",
       "      <td>7</td>\n",
       "      <td>6</td>\n",
       "      <td>NWAmes</td>\n",
       "      <td>1Fam</td>\n",
       "      <td>38</td>\n",
       "      <td>0</td>\n",
       "      <td>No</td>\n",
       "    </tr>\n",
       "    <tr>\n",
       "      <th>1452</th>\n",
       "      <td>35.0</td>\n",
       "      <td>3675</td>\n",
       "      <td>1072</td>\n",
       "      <td>5</td>\n",
       "      <td>5</td>\n",
       "      <td>Edwards</td>\n",
       "      <td>TwnhsE</td>\n",
       "      <td>1</td>\n",
       "      <td>28</td>\n",
       "      <td>Gd</td>\n",
       "    </tr>\n",
       "    <tr>\n",
       "      <th>762</th>\n",
       "      <td>72.0</td>\n",
       "      <td>8640</td>\n",
       "      <td>1547</td>\n",
       "      <td>7</td>\n",
       "      <td>5</td>\n",
       "      <td>Somerst</td>\n",
       "      <td>1Fam</td>\n",
       "      <td>1</td>\n",
       "      <td>45</td>\n",
       "      <td>Mn</td>\n",
       "    </tr>\n",
       "    <tr>\n",
       "      <th>932</th>\n",
       "      <td>84.0</td>\n",
       "      <td>11670</td>\n",
       "      <td>1905</td>\n",
       "      <td>9</td>\n",
       "      <td>5</td>\n",
       "      <td>Somerst</td>\n",
       "      <td>1Fam</td>\n",
       "      <td>1</td>\n",
       "      <td>191</td>\n",
       "      <td>No</td>\n",
       "    </tr>\n",
       "    <tr>\n",
       "      <th>435</th>\n",
       "      <td>43.0</td>\n",
       "      <td>10667</td>\n",
       "      <td>1661</td>\n",
       "      <td>7</td>\n",
       "      <td>6</td>\n",
       "      <td>CollgCr</td>\n",
       "      <td>1Fam</td>\n",
       "      <td>13</td>\n",
       "      <td>61</td>\n",
       "      <td>Av</td>\n",
       "    </tr>\n",
       "  </tbody>\n",
       "</table>\n",
       "</div>"
      ],
      "text/plain": [
       "      LotFrontage  LotArea  GrLivArea  OverallQual  OverallCond Neighborhood  \\\n",
       "135          80.0    10400       1682            7            6       NWAmes   \n",
       "1452         35.0     3675       1072            5            5      Edwards   \n",
       "762          72.0     8640       1547            7            5      Somerst   \n",
       "932          84.0    11670       1905            9            5      Somerst   \n",
       "435          43.0    10667       1661            7            6      CollgCr   \n",
       "\n",
       "     BldgType  HouseAge  TotalPorchSF BsmtExposure  \n",
       "135      1Fam        38             0           No  \n",
       "1452   TwnhsE         1            28           Gd  \n",
       "762      1Fam         1            45           Mn  \n",
       "932      1Fam         1           191           No  \n",
       "435      1Fam        13            61           Av  "
      ]
     },
     "execution_count": 137,
     "metadata": {},
     "output_type": "execute_result"
    }
   ],
   "source": [
    "train_base.head()"
   ]
  },
  {
   "cell_type": "code",
   "execution_count": 103,
   "metadata": {},
   "outputs": [],
   "source": [
    "num_transformer = make_pipeline(\n",
    "                    SimpleImputer(strategy='constant', fill_value=None),\n",
    "                    StandardScaler()\n",
    ")\n",
    "\n",
    "cat_transformer = make_pipeline(\n",
    "                    SimpleImputer(strategy='constant', fill_value='missing'),\n",
    "                    OneHotEncoder(handle_unknown='ignore')\n",
    ")"
   ]
  },
  {
   "cell_type": "code",
   "execution_count": 138,
   "metadata": {},
   "outputs": [],
   "source": [
    "col_transformer = make_column_transformer(\n",
    "    (cat_transformer, ['Neighborhood', 'BldgType', 'BsmtExposure']),\n",
    "    (num_transformer, ['LotFrontage', 'LotArea', 'GrLivArea', 'OverallQual', 'OverallCond', \n",
    "                       'HouseAge', 'TotalPorchSF']),\n",
    "    remainder='passthrough'\n",
    ")"
   ]
  },
  {
   "cell_type": "code",
   "execution_count": 139,
   "metadata": {},
   "outputs": [],
   "source": [
    "pipe_lin = make_pipeline(col_transformer, lin)"
   ]
  },
  {
   "cell_type": "code",
   "execution_count": 140,
   "metadata": {},
   "outputs": [],
   "source": [
    "pipe_lin.fit(train_base, y_base);"
   ]
  },
  {
   "cell_type": "code",
   "execution_count": 141,
   "metadata": {},
   "outputs": [
    {
     "data": {
      "text/plain": [
       "31742.795912240825"
      ]
     },
     "execution_count": 141,
     "metadata": {},
     "output_type": "execute_result"
    }
   ],
   "source": [
    "predictions = pipe_lin.predict(val_base)\n",
    "lin_mse = mean_squared_error(y_val, predictions)\n",
    "lin_rmse = np.sqrt(lin_mse)\n",
    "lin_rmse"
   ]
  },
  {
   "cell_type": "code",
   "execution_count": 69,
   "metadata": {},
   "outputs": [
    {
     "data": {
      "text/html": [
       "<div>\n",
       "<style scoped>\n",
       "    .dataframe tbody tr th:only-of-type {\n",
       "        vertical-align: middle;\n",
       "    }\n",
       "\n",
       "    .dataframe tbody tr th {\n",
       "        vertical-align: top;\n",
       "    }\n",
       "\n",
       "    .dataframe thead th {\n",
       "        text-align: right;\n",
       "    }\n",
       "</style>\n",
       "<table border=\"1\" class=\"dataframe\">\n",
       "  <thead>\n",
       "    <tr style=\"text-align: right;\">\n",
       "      <th></th>\n",
       "      <th>LotFrontage</th>\n",
       "      <th>LotArea</th>\n",
       "      <th>GrLivArea</th>\n",
       "      <th>OverallQual</th>\n",
       "      <th>OverallCond</th>\n",
       "      <th>Neighborhood</th>\n",
       "      <th>BldgType</th>\n",
       "    </tr>\n",
       "  </thead>\n",
       "  <tbody>\n",
       "    <tr>\n",
       "      <th>135</th>\n",
       "      <td>80.0</td>\n",
       "      <td>10400</td>\n",
       "      <td>1682</td>\n",
       "      <td>7</td>\n",
       "      <td>6</td>\n",
       "      <td>NWAmes</td>\n",
       "      <td>1Fam</td>\n",
       "    </tr>\n",
       "    <tr>\n",
       "      <th>1452</th>\n",
       "      <td>35.0</td>\n",
       "      <td>3675</td>\n",
       "      <td>1072</td>\n",
       "      <td>5</td>\n",
       "      <td>5</td>\n",
       "      <td>Edwards</td>\n",
       "      <td>TwnhsE</td>\n",
       "    </tr>\n",
       "    <tr>\n",
       "      <th>762</th>\n",
       "      <td>72.0</td>\n",
       "      <td>8640</td>\n",
       "      <td>1547</td>\n",
       "      <td>7</td>\n",
       "      <td>5</td>\n",
       "      <td>Somerst</td>\n",
       "      <td>1Fam</td>\n",
       "    </tr>\n",
       "    <tr>\n",
       "      <th>932</th>\n",
       "      <td>84.0</td>\n",
       "      <td>11670</td>\n",
       "      <td>1905</td>\n",
       "      <td>9</td>\n",
       "      <td>5</td>\n",
       "      <td>Somerst</td>\n",
       "      <td>1Fam</td>\n",
       "    </tr>\n",
       "    <tr>\n",
       "      <th>435</th>\n",
       "      <td>43.0</td>\n",
       "      <td>10667</td>\n",
       "      <td>1661</td>\n",
       "      <td>7</td>\n",
       "      <td>6</td>\n",
       "      <td>CollgCr</td>\n",
       "      <td>1Fam</td>\n",
       "    </tr>\n",
       "  </tbody>\n",
       "</table>\n",
       "</div>"
      ],
      "text/plain": [
       "      LotFrontage  LotArea  GrLivArea  OverallQual  OverallCond Neighborhood  \\\n",
       "135          80.0    10400       1682            7            6       NWAmes   \n",
       "1452         35.0     3675       1072            5            5      Edwards   \n",
       "762          72.0     8640       1547            7            5      Somerst   \n",
       "932          84.0    11670       1905            9            5      Somerst   \n",
       "435          43.0    10667       1661            7            6      CollgCr   \n",
       "\n",
       "     BldgType  \n",
       "135      1Fam  \n",
       "1452   TwnhsE  \n",
       "762      1Fam  \n",
       "932      1Fam  \n",
       "435      1Fam  "
      ]
     },
     "execution_count": 69,
     "metadata": {},
     "output_type": "execute_result"
    }
   ],
   "source": [
    "train_base.head()"
   ]
  },
  {
   "cell_type": "code",
   "execution_count": 6,
   "metadata": {},
   "outputs": [],
   "source": [
    "def EDA_df(df):\n",
    "    lotcon = {'CulDSac': 0, 'Inside': 1, 'Corner': 2, 'FR2': 2, 'FR3': 3}\n",
    "    df.loc[:,'LotConfig'] = df.loc[:,'LotConfig'].map(lotcon)\n",
    "    \n",
    "    bdtype = {'1Fam': 0, 'Duplex': 1, 'TwnhsE': 1, '2fmCon': 2, 'Twnhs': 3}\n",
    "    df.loc[:,'BldgType'] = df.BldgType.map(bdtype)\n",
    "    \n",
    "    Roof = {'Gable': 1,'Flat': 0, 'Gambrel': 0, 'Hip': 0, 'Mansard': 0, 'Shed': 0}\n",
    "    df.loc[:,'RoofStyle'] = df.RoofStyle.map(Roof)\n",
    "    \n",
    "    df.loc[:, 'LotFrontage'].fillna(0, inplace=True)\n",
    "    #df.loc[:, 'LotFrontage'].fillna(0)\n",
    "    df.loc[:, 'MasVnrArea'].fillna(0, inplace=True)\n",
    "    df.loc[:, 'MasVnrType'].fillna('None', inplace=True)\n",
    "    \n",
    "    Masonry = {'None': 0, 'BrkFace': 1, 'Stone': 1, 'BrkCmn': 1} \n",
    "    df.loc[:,'MasVnrType'] = df.MasVnrType.map(Masonry)\n",
    "    \n",
    "    df.loc[:, 'Fence'].fillna('None', inplace=True)\n",
    "    fencing = {'None': 0, 'MnPrv': 1, 'GdPrv': 1, 'GdWo': 1, 'MnWw': 1} \n",
    "    df.loc[:,'Fence'] = df.Fence.map(fencing)\n",
    "    \n",
    "    AC = {'Y': 1, 'N': 0} \n",
    "    df.loc[:,'CentralAir'] = df.CentralAir.map(AC)\n",
    "    \n",
    "    df.loc[:, 'Alley'].fillna('None', inplace=True)\n",
    "    Ay = {'None': 0, 'Grvl': 1, 'Pave': 1} \n",
    "    df.loc[:,'Alley'] = df.Alley.map(Ay)\n",
    "    \n",
    "    land = {'Lvl': 1, 'Bnk': 0, 'HLS': 0, 'Low': 0} \n",
    "    df.loc[:,'LandContour'] = df.LandContour.map(land)\n",
    "    \n",
    "    fd = {'PConc': 1, 'CBlock': 0, 'BrkTil': 0, 'Slab': 0, 'Stone': 0, 'Wood': 0} \n",
    "    df.loc[:,'Foundation'] = df.Foundation.map(fd)\n",
    "    \n",
    "    df.loc[(df.Fireplaces>0), 'Fireplaces'] = 1\n",
    "    \n",
    "    lot = {'Reg': 1, 'IR1': 0, 'IR2': 0, 'IR3': 0} \n",
    "    df.loc[:,'LotShape'] = df.LotShape.map(lot)\n",
    "    \n",
    "    drive = {'Y': 1, 'N': 0, 'P': 0} \n",
    "    df.loc[:,'PavedDrive'] = df.PavedDrive.map(drive)\n",
    "    \n",
    "    rank = {'Po': 0, 'Fa': 1, 'TA': 2, 'Gd': 3, 'Ex': 4, 'None': 0} \n",
    "    df.loc[:,'GarageCond'].fillna('None', inplace=True)\n",
    "    df.loc[:,'GarageCond'] = df.GarageCond.map(rank)\n",
    "    \n",
    "    df.loc[:,'GarageQual'].fillna('None', inplace=True)\n",
    "    df.loc[:,'GarageQual'] = df.GarageQual.map(rank)\n",
    "    \n",
    "    df.loc[:,'FireplaceQu'].fillna('None', inplace=True)\n",
    "    df.loc[:,'FireplaceQu'] = df.FireplaceQu.map(rank)\n",
    "    \n",
    "    df.loc[:,'BsmtQual'].fillna('None', inplace=True)\n",
    "    df.loc[:,'BsmtQual'] = df.BsmtQual.map(rank)\n",
    "    \n",
    "    df.loc[:,'BsmtCond'].fillna('None', inplace=True)\n",
    "    df.loc[:,'BsmtCond'] = df.BsmtCond.map(rank)\n",
    "    \n",
    "    df.loc[:,'ExterQual'] = df.ExterQual.map(rank)\n",
    "    df.loc[:,'KitchenQual'] = df.KitchenQual.map(rank)\n",
    "    \n",
    "    rank2 = {'Po': 0, 'Fa': 1, 'TA': 2, 'Gd': 3, 'Ex': 4} \n",
    "    df.loc[:,'HeatingQC'] = df.HeatingQC.map(rank2)\n",
    "    df.loc[:,'ExterCond'] = df.ExterCond.map(rank2)\n",
    "    \n",
    "    condition = {'RRNe': 0, 'RRNn': 0, 'RRAe': 0, 'RRAn': 0,\n",
    "            'Artery': 1, 'Feedr': 1, 'Norm': 2, 'PosN': 2, 'PosA': 2} \n",
    "    #0, railroad; 1, high traffic; 2, low traffic\n",
    "    df.loc[:,'Condition1'] = df.Condition1.map(condition)\n",
    "    \n",
    "    df.loc[:, 'BsmtExposure'].fillna('None', inplace=True)\n",
    "    bsmtExp = {'None': 0, 'No': 1, 'Mn': 1, 'Av': 2, 'Gd': 3} \n",
    "    df.loc[:,'BsmtExposure'] = df.BsmtExposure.map(bsmtExp)\n",
    "    \n",
    "    #neighbor = {'Blmngtn': 0, 'Blueste': 0, 'BrDale': 0, 'BrkSide': 3, 'ClearCr': 0,\n",
    "    #       'CollgCr': 2, 'Crawfor': 2, 'Edwards': 1, 'Gilbert': 0, 'IDOTRR': 3,\n",
    "    #       'MeadowV': 2, 'Mitchel': 2, 'NAmes': 0, 'NoRidge': 0, 'NPkVill': 0, \n",
    "    #        'NridgHt': 0, 'NWAmes': 0, 'OldTown': 3, 'SWISU': 2, 'Sawyer': 1,\n",
    "    #        'SawyerW': 1, 'Somerst': 0, 'StoneBr': 0, 'Timber': 2, 'Veenker': 0\n",
    "     #      } \n",
    "    #df.loc[:,'Neighborhood'] = df.Neighborhood.map(neighbor)\n",
    "\n",
    "    #df.loc[:, 'GarageType'].fillna('None', inplace=True)\n",
    "    #gartype = {'None': 0, '2Types': 1, 'CarPort': 1, 'Basment': 1,\n",
    "    #        'BuiltIn': 1, 'Detchd': 2, 'Attchd': 3} \n",
    "    #df.loc[:,'GarageType'] = df.GarageType.map(gartype)\n",
    "    \n",
    "    df.loc[(df.OverallQual<=2), 'OverallQual'] = 0\n",
    "    df.loc[(df.OverallQual>2) & (df.OverallQual<=4), 'OverallQual'] = 1\n",
    "    df.loc[(df.OverallQual>4) & (df.OverallQual<=6), 'OverallQual'] = 2\n",
    "    df.loc[(df.OverallQual>6) & (df.OverallQual<=8), 'OverallQual'] = 3\n",
    "    df.loc[(df.OverallQual>=9), 'OverallQual'] = 4\n",
    "    \n",
    "    df.loc[(df.OverallCond<=2), 'OverallCond'] = 0\n",
    "    df.loc[(df.OverallCond>2) & (df.OverallCond<=4), 'OverallCond'] = 1\n",
    "    df.loc[(df.OverallCond>4) & (df.OverallCond<=6), 'OverallCond'] = 2\n",
    "    df.loc[(df.OverallCond>6) & (df.OverallCond<=8), 'OverallCond'] = 3\n",
    "    df.loc[(df.OverallCond>=9), 'OverallCond'] = 4\n",
    "    \n",
    "    ## new features\n",
    "    #df.loc[:,'HouseAge'] = df.YrSold - df.YearBuilt [improved]\n",
    "    df.loc[:,'GarageAge'] = df.YrSold - df.GarageYrBlt\n",
    "    df.loc[:,'RecentRemodel'] = df.YrSold - df.YearRemodAdd\n",
    "    #df.loc[:,'TotalPorchSF'] = df.OpenPorchSF + df.EnclosedPorch + df.ScreenPorch + df['3SsnPorch'] improved\n",
    "    df.loc[:,'TotalBathAbGr'] = df.FullBath + df.HalfBath / 2\n",
    "    df.loc[:,'TotalFinSF'] = df.BsmtFinSF1 + df.BsmtFinSF2 + df['1stFlrSF'] + df['2ndFlrSF']\n",
    "    df.loc[:,'BsmtBath'] = df.BsmtFullBath + df.BsmtHalfBath\n",
    "\n",
    "    df.loc[(df.BsmtBath>0), 'BsmtBath'] = 1\n",
    "    \n",
    "    #drop_attribs = ['Utilities', 'Heating', 'RoofMatl', 'SaleCondition', 'Electrical', 'SaleType',\n",
    "    #            'PoolQC', 'MiscFeature', 'Street', 'Functional', 'MSSubClass', 'LandSlope', \n",
    "    #            'HouseStyle', 'YearBuilt', 'GarageYrBlt', 'MoSold', 'MiscVal', 'FullBath', \n",
    "    #            'HalfBath', 'BsmtFullBath', 'BsmtHalfBath', 'LowQualFinSF', 'PoolArea', 'YrSold',\n",
    "    #            'YearRemodAdd', '1stFlrSF', '2ndFlrSF', 'BsmtFinSF1', 'BsmtFinSF2', 'BsmtUnfSF',\n",
    "    #            'OpenPorchSF', 'EnclosedPorch', 'ScreenPorch', '3SsnPorch', 'GarageCars', 'KitchenAbvGr',\n",
    "    #            'BedroomAbvGr', 'Exterior1st', 'Exterior2nd', 'Condition2', 'BsmtFinType1', 'BsmtFinType2',\n",
    "    #           'GarageFinish', 'MSZoning', 'OverallCond', 'ExterCond', 'LandContour', 'GarageAge', 'LotConfig']\n",
    "   # df_out = df.loc[:, ~df.columns.isin(drop_attribs)]\n",
    "    return df_out"
   ]
  },
  {
   "cell_type": "code",
   "execution_count": 30,
   "metadata": {},
   "outputs": [],
   "source": [
    "#from sklearn.preprocessing import OrdinalEncoder\n",
    "#ordinal_encoder = OrdinalEncoder()"
   ]
  },
  {
   "cell_type": "code",
   "execution_count": 37,
   "metadata": {},
   "outputs": [],
   "source": [
    "#train_lotconf = train_set[['LotConfig']]\n",
    "#lotconfigureation = ordinal_encoder.fit_transform(train_lotconf)\n",
    "#lotconfigureation"
   ]
  },
  {
   "cell_type": "code",
   "execution_count": 38,
   "metadata": {},
   "outputs": [],
   "source": [
    "ColumnTransformer(transformers=[('standardscaler', StandardScaler(...),\n",
    "                                 ['numerical_column']),\n",
    "                                ('onehotencoder', OneHotEncoder(...),\n",
    "                                 ['categorical_column'])])"
   ]
  },
  {
   "cell_type": "code",
   "execution_count": 46,
   "metadata": {},
   "outputs": [],
   "source": [
    "num_cols = ['LotFrontage', 'LotArea', 'MasVnrArea', 'TotalBsmtSF', 'GrLivArea', 'GarageArea', 'WoodDeckSF', 'HouseAge',\n",
    "           'RecentRemodel', 'TotalPorchSF', 'TotalBathAbGr', 'TotalFinSF']"
   ]
  },
  {
   "cell_type": "code",
   "execution_count": 53,
   "metadata": {},
   "outputs": [],
   "source": [
    "from sklearn.preprocessing import StandardScaler\n",
    "from sklearn.compose import make_column_transformer\n",
    "\n",
    "preprocessor = make_column_transformer(\n",
    "        ( StandardScaler(), num_cols ), remainder=\"passthrough\"\n",
    "        #( OneHotEncoder(), ['categorical_column'] )\n",
    ")\n",
    "\n",
    "\n",
    "#scaling = StandardScaler()"
   ]
  },
  {
   "cell_type": "code",
   "execution_count": 7,
   "metadata": {},
   "outputs": [],
   "source": [
    "train_cleaned = EDA_df(train_set)"
   ]
  },
  {
   "cell_type": "code",
   "execution_count": 60,
   "metadata": {},
   "outputs": [],
   "source": [
    "train_cleaned_transformed = train_cleaned.copy()"
   ]
  },
  {
   "cell_type": "code",
   "execution_count": 61,
   "metadata": {},
   "outputs": [],
   "source": [
    "train_cleaned_transformed[num_cols] = preprocessor.fit_transform(train_cleaned[num_cols])"
   ]
  },
  {
   "cell_type": "code",
   "execution_count": 63,
   "metadata": {},
   "outputs": [
    {
     "data": {
      "text/plain": [
       "(1022, 40)"
      ]
     },
     "execution_count": 63,
     "metadata": {},
     "output_type": "execute_result"
    }
   ],
   "source": [
    "train_cleaned_transformed.shape"
   ]
  },
  {
   "cell_type": "code",
   "execution_count": 9,
   "metadata": {},
   "outputs": [],
   "source": [
    "test_cleaned = EDA_df(test_set)"
   ]
  },
  {
   "cell_type": "code",
   "execution_count": 17,
   "metadata": {},
   "outputs": [],
   "source": [
    "pred_cleaned = EDA_df(pred)"
   ]
  },
  {
   "cell_type": "code",
   "execution_count": 18,
   "metadata": {},
   "outputs": [
    {
     "data": {
      "text/plain": [
       "(1459, 39)"
      ]
     },
     "execution_count": 18,
     "metadata": {},
     "output_type": "execute_result"
    }
   ],
   "source": [
    "pred_cleaned.shape"
   ]
  },
  {
   "cell_type": "code",
   "execution_count": 19,
   "metadata": {},
   "outputs": [
    {
     "data": {
      "text/html": [
       "<div>\n",
       "<style scoped>\n",
       "    .dataframe tbody tr th:only-of-type {\n",
       "        vertical-align: middle;\n",
       "    }\n",
       "\n",
       "    .dataframe tbody tr th {\n",
       "        vertical-align: top;\n",
       "    }\n",
       "\n",
       "    .dataframe thead th {\n",
       "        text-align: right;\n",
       "    }\n",
       "</style>\n",
       "<table border=\"1\" class=\"dataframe\">\n",
       "  <thead>\n",
       "    <tr style=\"text-align: right;\">\n",
       "      <th></th>\n",
       "      <th>Id</th>\n",
       "      <th>LotFrontage</th>\n",
       "      <th>LotArea</th>\n",
       "      <th>Alley</th>\n",
       "      <th>LotShape</th>\n",
       "      <th>LotConfig</th>\n",
       "      <th>Neighborhood</th>\n",
       "      <th>Condition1</th>\n",
       "      <th>BldgType</th>\n",
       "      <th>OverallQual</th>\n",
       "      <th>...</th>\n",
       "      <th>GarageCond</th>\n",
       "      <th>PavedDrive</th>\n",
       "      <th>WoodDeckSF</th>\n",
       "      <th>Fence</th>\n",
       "      <th>HouseAge</th>\n",
       "      <th>RecentRemodel</th>\n",
       "      <th>TotalPorchSF</th>\n",
       "      <th>TotalBathAbGr</th>\n",
       "      <th>TotalFinSF</th>\n",
       "      <th>BsmtBath</th>\n",
       "    </tr>\n",
       "  </thead>\n",
       "  <tbody>\n",
       "    <tr>\n",
       "      <th>0</th>\n",
       "      <td>1461</td>\n",
       "      <td>80.0</td>\n",
       "      <td>11622</td>\n",
       "      <td>0</td>\n",
       "      <td>1</td>\n",
       "      <td>1</td>\n",
       "      <td>0</td>\n",
       "      <td>1</td>\n",
       "      <td>0</td>\n",
       "      <td>2</td>\n",
       "      <td>...</td>\n",
       "      <td>2</td>\n",
       "      <td>1</td>\n",
       "      <td>140</td>\n",
       "      <td>1</td>\n",
       "      <td>49</td>\n",
       "      <td>49</td>\n",
       "      <td>120</td>\n",
       "      <td>1.0</td>\n",
       "      <td>1508.0</td>\n",
       "      <td>0.0</td>\n",
       "    </tr>\n",
       "    <tr>\n",
       "      <th>1</th>\n",
       "      <td>1462</td>\n",
       "      <td>81.0</td>\n",
       "      <td>14267</td>\n",
       "      <td>0</td>\n",
       "      <td>0</td>\n",
       "      <td>2</td>\n",
       "      <td>0</td>\n",
       "      <td>2</td>\n",
       "      <td>0</td>\n",
       "      <td>2</td>\n",
       "      <td>...</td>\n",
       "      <td>2</td>\n",
       "      <td>1</td>\n",
       "      <td>393</td>\n",
       "      <td>0</td>\n",
       "      <td>52</td>\n",
       "      <td>52</td>\n",
       "      <td>36</td>\n",
       "      <td>1.5</td>\n",
       "      <td>2252.0</td>\n",
       "      <td>0.0</td>\n",
       "    </tr>\n",
       "    <tr>\n",
       "      <th>2</th>\n",
       "      <td>1463</td>\n",
       "      <td>74.0</td>\n",
       "      <td>13830</td>\n",
       "      <td>0</td>\n",
       "      <td>0</td>\n",
       "      <td>1</td>\n",
       "      <td>0</td>\n",
       "      <td>2</td>\n",
       "      <td>0</td>\n",
       "      <td>2</td>\n",
       "      <td>...</td>\n",
       "      <td>2</td>\n",
       "      <td>1</td>\n",
       "      <td>212</td>\n",
       "      <td>1</td>\n",
       "      <td>13</td>\n",
       "      <td>12</td>\n",
       "      <td>34</td>\n",
       "      <td>2.5</td>\n",
       "      <td>2420.0</td>\n",
       "      <td>0.0</td>\n",
       "    </tr>\n",
       "    <tr>\n",
       "      <th>3</th>\n",
       "      <td>1464</td>\n",
       "      <td>78.0</td>\n",
       "      <td>9978</td>\n",
       "      <td>0</td>\n",
       "      <td>0</td>\n",
       "      <td>1</td>\n",
       "      <td>0</td>\n",
       "      <td>2</td>\n",
       "      <td>0</td>\n",
       "      <td>2</td>\n",
       "      <td>...</td>\n",
       "      <td>2</td>\n",
       "      <td>1</td>\n",
       "      <td>360</td>\n",
       "      <td>0</td>\n",
       "      <td>12</td>\n",
       "      <td>12</td>\n",
       "      <td>36</td>\n",
       "      <td>2.5</td>\n",
       "      <td>2206.0</td>\n",
       "      <td>0.0</td>\n",
       "    </tr>\n",
       "    <tr>\n",
       "      <th>4</th>\n",
       "      <td>1465</td>\n",
       "      <td>43.0</td>\n",
       "      <td>5005</td>\n",
       "      <td>0</td>\n",
       "      <td>0</td>\n",
       "      <td>1</td>\n",
       "      <td>0</td>\n",
       "      <td>2</td>\n",
       "      <td>1</td>\n",
       "      <td>3</td>\n",
       "      <td>...</td>\n",
       "      <td>2</td>\n",
       "      <td>1</td>\n",
       "      <td>0</td>\n",
       "      <td>0</td>\n",
       "      <td>18</td>\n",
       "      <td>18</td>\n",
       "      <td>226</td>\n",
       "      <td>2.0</td>\n",
       "      <td>1543.0</td>\n",
       "      <td>0.0</td>\n",
       "    </tr>\n",
       "  </tbody>\n",
       "</table>\n",
       "<p>5 rows × 39 columns</p>\n",
       "</div>"
      ],
      "text/plain": [
       "     Id  LotFrontage  LotArea  Alley  LotShape  LotConfig  Neighborhood  \\\n",
       "0  1461         80.0    11622      0         1          1             0   \n",
       "1  1462         81.0    14267      0         0          2             0   \n",
       "2  1463         74.0    13830      0         0          1             0   \n",
       "3  1464         78.0     9978      0         0          1             0   \n",
       "4  1465         43.0     5005      0         0          1             0   \n",
       "\n",
       "   Condition1  BldgType  OverallQual  ...  GarageCond  PavedDrive  WoodDeckSF  \\\n",
       "0           1         0            2  ...           2           1         140   \n",
       "1           2         0            2  ...           2           1         393   \n",
       "2           2         0            2  ...           2           1         212   \n",
       "3           2         0            2  ...           2           1         360   \n",
       "4           2         1            3  ...           2           1           0   \n",
       "\n",
       "   Fence  HouseAge  RecentRemodel  TotalPorchSF  TotalBathAbGr  TotalFinSF  \\\n",
       "0      1        49             49           120            1.0      1508.0   \n",
       "1      0        52             52            36            1.5      2252.0   \n",
       "2      1        13             12            34            2.5      2420.0   \n",
       "3      0        12             12            36            2.5      2206.0   \n",
       "4      0        18             18           226            2.0      1543.0   \n",
       "\n",
       "   BsmtBath  \n",
       "0       0.0  \n",
       "1       0.0  \n",
       "2       0.0  \n",
       "3       0.0  \n",
       "4       0.0  \n",
       "\n",
       "[5 rows x 39 columns]"
      ]
     },
     "execution_count": 19,
     "metadata": {},
     "output_type": "execute_result"
    }
   ],
   "source": [
    "pred_cleaned.head()"
   ]
  },
  {
   "cell_type": "code",
   "execution_count": 13,
   "metadata": {},
   "outputs": [],
   "source": [
    "train_cleaned.to_csv('./data/train_cleaned.csv', index=False)\n",
    "test_cleaned.to_csv('./data/test_cleaned.csv', index=False)"
   ]
  },
  {
   "cell_type": "code",
   "execution_count": 29,
   "metadata": {},
   "outputs": [
    {
     "data": {
      "text/plain": [
       "SalePrice        1.000000\n",
       "OverallQual      0.733066\n",
       "GrLivArea        0.689238\n",
       "TotalFinSF       0.678082\n",
       "ExterQual        0.658612\n",
       "KitchenQual      0.655688\n",
       "GarageArea       0.621937\n",
       "BsmtQual         0.619358\n",
       "TotalBsmtSF      0.590017\n",
       "TotalBathAbGr    0.584861\n",
       "FireplaceQu      0.524848\n",
       "TotRmsAbvGrd     0.519634\n",
       "Foundation       0.481575\n",
       "Fireplaces       0.476331\n",
       "MasVnrArea       0.453250\n",
       "HeatingQC        0.440328\n",
       "BsmtExposure     0.355017\n",
       "MasVnrType       0.345093\n",
       "WoodDeckSF       0.331151\n",
       "GarageQual       0.281610\n",
       "CentralAir       0.269116\n",
       "GarageType       0.268161\n",
       "GarageCond       0.266425\n",
       "LotArea          0.262896\n",
       "BsmtCond         0.225136\n",
       "PavedDrive       0.223190\n",
       "LotFrontage      0.205541\n",
       "BsmtBath         0.192954\n",
       "TotalPorchSF     0.172693\n",
       "Condition1       0.117960\n",
       "Id              -0.034812\n",
       "LotConfig       -0.089459\n",
       "Alley           -0.134945\n",
       "Fence           -0.156784\n",
       "BldgType        -0.167336\n",
       "RoofStyle       -0.224277\n",
       "LotShape        -0.250549\n",
       "Neighborhood    -0.288874\n",
       "HouseAge        -0.512269\n",
       "RecentRemodel   -0.513031\n",
       "Name: SalePrice, dtype: float64"
      ]
     },
     "execution_count": 29,
     "metadata": {},
     "output_type": "execute_result"
    }
   ],
   "source": [
    "corr_matrix = train_cleaned.corr()\n",
    "corr_matrix['SalePrice'].sort_values(ascending=False)"
   ]
  },
  {
   "cell_type": "markdown",
   "metadata": {},
   "source": [
    "# Feature Scaling"
   ]
  },
  {
   "cell_type": "code",
   "execution_count": 12,
   "metadata": {},
   "outputs": [],
   "source": [
    "from sklearn.preprocessing import StandardScaler"
   ]
  },
  {
   "cell_type": "code",
   "execution_count": null,
   "metadata": {},
   "outputs": [],
   "source": [
    "StandardScaler().fit_transform(x) "
   ]
  },
  {
   "cell_type": "markdown",
   "metadata": {},
   "source": [
    "# Transformation Pipelines"
   ]
  },
  {
   "cell_type": "code",
   "execution_count": 11,
   "metadata": {},
   "outputs": [],
   "source": [
    "from sklearn.pipeline import Pipeline\n",
    "from sklearn.preprocessing import StandardScaler\n",
    "from sklearn.compose import ColumnTransformer"
   ]
  }
 ],
 "metadata": {
  "kernelspec": {
   "display_name": "Python 3",
   "language": "python",
   "name": "python3"
  },
  "language_info": {
   "codemirror_mode": {
    "name": "ipython",
    "version": 3
   },
   "file_extension": ".py",
   "mimetype": "text/x-python",
   "name": "python",
   "nbconvert_exporter": "python",
   "pygments_lexer": "ipython3",
   "version": "3.8.3"
  }
 },
 "nbformat": 4,
 "nbformat_minor": 4
}
